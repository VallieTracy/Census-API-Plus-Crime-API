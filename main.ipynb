{
 "cells": [
  {
   "cell_type": "code",
   "execution_count": null,
   "metadata": {},
   "outputs": [],
   "source": [
    "# Import dependencies\n",
    "import os\n",
    "import pandas as pd\n",
    "import numpy as np\n",
    "from sodapy import Socrata\n",
    "\n",
    "# Import App Token\n",
    "from config import SODAPY_APPTOKEN"
   ]
  },
  {
   "cell_type": "markdown",
   "metadata": {},
   "source": [
    "# Use Socrata API to import the dataset\n",
    "------------\n",
    "API endpoint: https://information.stpaul.gov/resource/gppb-g9cg.json"
   ]
  },
  {
   "cell_type": "code",
   "execution_count": null,
   "metadata": {},
   "outputs": [],
   "source": [
    "# Set up variables for api endpoint and dataset identifier\n",
    "query_url = 'information.stpaul.gov'\n",
    "data_id = 'gppb-g9cg'\n",
    "\n",
    "# Authenticate the request\n",
    "client = Socrata(query_url, SODAPY_APPTOKEN)\n",
    "\n",
    "# Returns results as JSON from API / converted to Python list of dictionaries by sodapy\n",
    "results = client.get(data_id, limit=300000)\n",
    "''' *****NOTE: Need to sort thru how to do pages because this works for now, but the dataset will only continue to grow.\n",
    "Will undoubtedly become problematic.  Will work for now though.'''\n",
    "\n",
    "\n",
    "# Convert to pandas DataFrame\n",
    "crime_df = pd.DataFrame.from_records(results)\n",
    "crime_df.head()"
   ]
  },
  {
   "cell_type": "markdown",
   "metadata": {},
   "source": [
    "\n",
    "# Exploratory Analysis"
   ]
  },
  {
   "cell_type": "markdown",
   "metadata": {},
   "source": [
    "#### TIME"
   ]
  },
  {
   "cell_type": "code",
   "execution_count": null,
   "metadata": {},
   "outputs": [],
   "source": [
    "# Find oldest and most recent date\n",
    "# 'date' column is an object, change it to datetime\n",
    "crime_df['date'] = pd.to_datetime(crime_df['date'])\n",
    "\n",
    "# Preview\n",
    "crime_df.head()"
   ]
  },
  {
   "cell_type": "code",
   "execution_count": null,
   "metadata": {},
   "outputs": [],
   "source": [
    "# Preview the tail\n",
    "'''Notice difference in date and time columns over the years'''\n",
    "crime_df.tail()"
   ]
  },
  {
   "cell_type": "code",
   "execution_count": null,
   "metadata": {},
   "outputs": [],
   "source": [
    "# Datset start and end dates\n",
    "recent_date = crime_df.iloc[0][1]\n",
    "print(f\"The earliest date recorded in the dataset: {recent_date}\")\n",
    "first_date = crime_df.iloc[-1][1]\n",
    "print(f\"The earliest date recorded in the dataset: {first_date}\")"
   ]
  },
  {
   "cell_type": "markdown",
   "metadata": {},
   "source": [
    "#### TYPES OF CALLS"
   ]
  },
  {
   "cell_type": "code",
   "execution_count": null,
   "metadata": {},
   "outputs": [],
   "source": [
    "# Look at types of Call Disposition\n",
    "crime_df['call_disposition'].unique()"
   ]
  },
  {
   "cell_type": "code",
   "execution_count": null,
   "metadata": {},
   "outputs": [],
   "source": [
    "# Combine 'RR' and 'R' because they both stand for Report Written from what I can tell from the official dataset\n",
    "crime_df = crime_df.replace({'R': 'RR'})\n",
    "\n",
    "# Check unique codes again\n",
    "crime_df['call_disposition'].unique()"
   ]
  },
  {
   "cell_type": "code",
   "execution_count": null,
   "metadata": {},
   "outputs": [],
   "source": [
    "# Look at 'incident_type' and 'incident' to see if there are similar values\n",
    "print(\"INCIDENT TYPE VALUE COUNTS:\")\n",
    "print(crime_df['incident_type'].value_counts())\n",
    "print(\"----------\")\n",
    "print(\"INCIDENT VALUE COUNTS:\")\n",
    "print(crime_df['incident'].value_counts())"
   ]
  },
  {
   "cell_type": "code",
   "execution_count": null,
   "metadata": {},
   "outputs": [],
   "source": [
    "# Combine 'Simple Assault Dom.' (one is misspelled)\n",
    "crime_df = crime_df.replace({\"Simple Asasult Dom.\": \"Simple Assault Dom.\"})\n",
    "\n",
    "# Check value counts again\n",
    "crime_df['incident'].value_counts()"
   ]
  },
  {
   "cell_type": "code",
   "execution_count": null,
   "metadata": {},
   "outputs": [],
   "source": [
    "crime_df"
   ]
  },
  {
   "cell_type": "code",
   "execution_count": null,
   "metadata": {},
   "outputs": [],
   "source": []
  }
 ],
 "metadata": {
  "kernelspec": {
   "display_name": "Python 3",
   "language": "python",
   "name": "python3"
  },
  "language_info": {
   "codemirror_mode": {
    "name": "ipython",
    "version": 3
   },
   "file_extension": ".py",
   "mimetype": "text/x-python",
   "name": "python",
   "nbconvert_exporter": "python",
   "pygments_lexer": "ipython3",
   "version": "3.6.10"
  }
 },
 "nbformat": 4,
 "nbformat_minor": 2
}
