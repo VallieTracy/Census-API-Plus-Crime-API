{
 "cells": [
  {
   "cell_type": "code",
   "execution_count": 1,
   "metadata": {},
   "outputs": [],
   "source": [
    "# Import dependencies\n",
    "import os\n",
    "import pandas as pd\n",
    "import numpy as np\n",
    "from sodapy import Socrata\n",
    "\n",
    "# Import App Token\n",
    "from config import SODAPY_APPTOKEN"
   ]
  },
  {
   "cell_type": "markdown",
   "metadata": {},
   "source": [
    "# Use Socrata API to import the dataset\n",
    "------------\n",
    "API endpoint: https://information.stpaul.gov/resource/gppb-g9cg.json"
   ]
  },
  {
   "cell_type": "code",
   "execution_count": 2,
   "metadata": {},
   "outputs": [
    {
     "data": {
      "text/html": [
       "<div>\n",
       "<style scoped>\n",
       "    .dataframe tbody tr th:only-of-type {\n",
       "        vertical-align: middle;\n",
       "    }\n",
       "\n",
       "    .dataframe tbody tr th {\n",
       "        vertical-align: top;\n",
       "    }\n",
       "\n",
       "    .dataframe thead th {\n",
       "        text-align: right;\n",
       "    }\n",
       "</style>\n",
       "<table border=\"1\" class=\"dataframe\">\n",
       "  <thead>\n",
       "    <tr style=\"text-align: right;\">\n",
       "      <th></th>\n",
       "      <th>case_number</th>\n",
       "      <th>date</th>\n",
       "      <th>time</th>\n",
       "      <th>code</th>\n",
       "      <th>incident_type</th>\n",
       "      <th>incident</th>\n",
       "      <th>grid</th>\n",
       "      <th>neighborhood_number</th>\n",
       "      <th>neighborhood_name</th>\n",
       "      <th>block</th>\n",
       "      <th>call_disposition</th>\n",
       "      <th>call_disposition_2</th>\n",
       "      <th>count</th>\n",
       "    </tr>\n",
       "  </thead>\n",
       "  <tbody>\n",
       "    <tr>\n",
       "      <th>0</th>\n",
       "      <td>20166678</td>\n",
       "      <td>2020-08-12T23:49:03.000</td>\n",
       "      <td>2020-08-12T23:49:03.000</td>\n",
       "      <td>600</td>\n",
       "      <td>Theft, Except Auto Theft</td>\n",
       "      <td>Theft</td>\n",
       "      <td>153</td>\n",
       "      <td>17</td>\n",
       "      <td>17 - Capitol River</td>\n",
       "      <td>11X KELLOGG BD E</td>\n",
       "      <td>A</td>\n",
       "      <td>Advised</td>\n",
       "      <td>1</td>\n",
       "    </tr>\n",
       "    <tr>\n",
       "      <th>1</th>\n",
       "      <td>20166663</td>\n",
       "      <td>2020-08-12T23:36:54.000</td>\n",
       "      <td>2020-08-12T23:36:54.000</td>\n",
       "      <td>9954</td>\n",
       "      <td>Proactive Police Visit</td>\n",
       "      <td>Proactive Police Visit</td>\n",
       "      <td>57</td>\n",
       "      <td>2</td>\n",
       "      <td>2 - Greater East Side</td>\n",
       "      <td>117X CLARENCE ST</td>\n",
       "      <td>A</td>\n",
       "      <td>Advised</td>\n",
       "      <td>1</td>\n",
       "    </tr>\n",
       "    <tr>\n",
       "      <th>2</th>\n",
       "      <td>20166662</td>\n",
       "      <td>2020-08-12T23:35:04.000</td>\n",
       "      <td>2020-08-12T23:35:04.000</td>\n",
       "      <td>9954</td>\n",
       "      <td>Proactive Police Visit</td>\n",
       "      <td>Proactive Police Visit</td>\n",
       "      <td>89</td>\n",
       "      <td>7</td>\n",
       "      <td>7 - Thomas/Dale(Frogtown)</td>\n",
       "      <td>52X THOMAS AV</td>\n",
       "      <td>A</td>\n",
       "      <td>Advised</td>\n",
       "      <td>1</td>\n",
       "    </tr>\n",
       "    <tr>\n",
       "      <th>3</th>\n",
       "      <td>20166657</td>\n",
       "      <td>2020-08-12T23:29:37.000</td>\n",
       "      <td>2020-08-12T23:29:37.000</td>\n",
       "      <td>9954</td>\n",
       "      <td>Proactive Police Visit</td>\n",
       "      <td>Proactive Police Visit</td>\n",
       "      <td>87</td>\n",
       "      <td>7</td>\n",
       "      <td>7 - Thomas/Dale(Frogtown)</td>\n",
       "      <td>UNIVERSITY AV W &amp; OXFORD</td>\n",
       "      <td>A</td>\n",
       "      <td>Advised</td>\n",
       "      <td>1</td>\n",
       "    </tr>\n",
       "    <tr>\n",
       "      <th>4</th>\n",
       "      <td>20166654</td>\n",
       "      <td>2020-08-12T23:22:45.000</td>\n",
       "      <td>2020-08-12T23:22:45.000</td>\n",
       "      <td>9954</td>\n",
       "      <td>Proactive Police Visit</td>\n",
       "      <td>Proactive Police Visit</td>\n",
       "      <td>49</td>\n",
       "      <td>6</td>\n",
       "      <td>6 - North End</td>\n",
       "      <td>44X MARYLAND AV W</td>\n",
       "      <td>A</td>\n",
       "      <td>Advised</td>\n",
       "      <td>1</td>\n",
       "    </tr>\n",
       "  </tbody>\n",
       "</table>\n",
       "</div>"
      ],
      "text/plain": [
       "  case_number                     date                     time  code  \\\n",
       "0    20166678  2020-08-12T23:49:03.000  2020-08-12T23:49:03.000   600   \n",
       "1    20166663  2020-08-12T23:36:54.000  2020-08-12T23:36:54.000  9954   \n",
       "2    20166662  2020-08-12T23:35:04.000  2020-08-12T23:35:04.000  9954   \n",
       "3    20166657  2020-08-12T23:29:37.000  2020-08-12T23:29:37.000  9954   \n",
       "4    20166654  2020-08-12T23:22:45.000  2020-08-12T23:22:45.000  9954   \n",
       "\n",
       "              incident_type                incident grid neighborhood_number  \\\n",
       "0  Theft, Except Auto Theft                   Theft  153                  17   \n",
       "1    Proactive Police Visit  Proactive Police Visit   57                   2   \n",
       "2    Proactive Police Visit  Proactive Police Visit   89                   7   \n",
       "3    Proactive Police Visit  Proactive Police Visit   87                   7   \n",
       "4    Proactive Police Visit  Proactive Police Visit   49                   6   \n",
       "\n",
       "           neighborhood_name                     block call_disposition  \\\n",
       "0         17 - Capitol River          11X KELLOGG BD E                A   \n",
       "1      2 - Greater East Side          117X CLARENCE ST                A   \n",
       "2  7 - Thomas/Dale(Frogtown)             52X THOMAS AV                A   \n",
       "3  7 - Thomas/Dale(Frogtown)  UNIVERSITY AV W & OXFORD                A   \n",
       "4              6 - North End         44X MARYLAND AV W                A   \n",
       "\n",
       "  call_disposition_2 count  \n",
       "0            Advised     1  \n",
       "1            Advised     1  \n",
       "2            Advised     1  \n",
       "3            Advised     1  \n",
       "4            Advised     1  "
      ]
     },
     "execution_count": 2,
     "metadata": {},
     "output_type": "execute_result"
    }
   ],
   "source": [
    "# Set up variables for api endpoint and dataset identifier\n",
    "query_url = 'information.stpaul.gov'\n",
    "data_id = 'gppb-g9cg'\n",
    "\n",
    "# Authenticate the request\n",
    "client = Socrata(query_url, SODAPY_APPTOKEN)\n",
    "\n",
    "# Returns results as JSON from API / converted to Python list of dictionaries by sodapy\n",
    "results = client.get(data_id, limit=300000)\n",
    "''' *****NOTE: Need to sort thru how to do pages because this works for now, but the dataset will only continue to grow.\n",
    "Will undoubtedly become problematic.  Will work for now though.'''\n",
    "\n",
    "\n",
    "# Convert to pandas DataFrame\n",
    "crime_df = pd.DataFrame.from_records(results)\n",
    "crime_df.head()"
   ]
  },
  {
   "cell_type": "markdown",
   "metadata": {},
   "source": [
    "\n",
    "# Exploratory Analysis"
   ]
  },
  {
   "cell_type": "markdown",
   "metadata": {},
   "source": [
    "#### TIME"
   ]
  },
  {
   "cell_type": "code",
   "execution_count": null,
   "metadata": {},
   "outputs": [],
   "source": [
    "# Find oldest and most recent date\n",
    "# 'date' column is an object, change it to datetime\n",
    "crime_df['date'] = pd.to_datetime(crime_df['date'])\n",
    "\n",
    "# Preview\n",
    "crime_df.head()"
   ]
  },
  {
   "cell_type": "code",
   "execution_count": null,
   "metadata": {},
   "outputs": [],
   "source": [
    "# Preview the tail\n",
    "'''Notice difference in date and time columns over the years'''\n",
    "crime_df.tail()"
   ]
  },
  {
   "cell_type": "code",
   "execution_count": null,
   "metadata": {},
   "outputs": [],
   "source": [
    "# Datset start and end dates\n",
    "recent_date = crime_df.iloc[0][1]\n",
    "print(f\"The earliest date recorded in the dataset: {recent_date}\")\n",
    "first_date = crime_df.iloc[-1][1]\n",
    "print(f\"The earliest date recorded in the dataset: {first_date}\")"
   ]
  },
  {
   "cell_type": "markdown",
   "metadata": {},
   "source": [
    "#### TYPES OF CALLS"
   ]
  },
  {
   "cell_type": "code",
   "execution_count": null,
   "metadata": {},
   "outputs": [],
   "source": [
    "# Look at types of Call Disposition\n",
    "crime_df['call_disposition'].unique()"
   ]
  },
  {
   "cell_type": "code",
   "execution_count": null,
   "metadata": {},
   "outputs": [],
   "source": [
    "# Combine 'RR' and 'R' because they both stand for Report Written from what I can tell from the official dataset\n",
    "crime_df = crime_df.replace({'R': 'RR'})\n",
    "\n",
    "# Check unique codes again\n",
    "crime_df['call_disposition'].unique()"
   ]
  },
  {
   "cell_type": "code",
   "execution_count": null,
   "metadata": {},
   "outputs": [],
   "source": [
    "# Look at 'incident_type' and 'incident' to see if there are similar values\n",
    "print(\"INCIDENT TYPE VALUE COUNTS:\")\n",
    "print(crime_df['incident_type'].value_counts())\n",
    "print(\"----------\")\n",
    "print(\"INCIDENT VALUE COUNTS:\")\n",
    "print(crime_df['incident'].value_counts())"
   ]
  },
  {
   "cell_type": "code",
   "execution_count": null,
   "metadata": {},
   "outputs": [],
   "source": [
    "# Combine 'Simple Assault Dom.' (one is misspelled)\n",
    "crime_df = crime_df.replace({\"Simple Asasult Dom.\": \"Simple Assault Dom.\"})\n",
    "\n",
    "# Check value counts again\n",
    "crime_df['incident'].value_counts()"
   ]
  },
  {
   "cell_type": "code",
   "execution_count": null,
   "metadata": {},
   "outputs": [],
   "source": [
    "crime_df"
   ]
  },
  {
   "cell_type": "code",
   "execution_count": null,
   "metadata": {},
   "outputs": [],
   "source": []
  }
 ],
 "metadata": {
  "kernelspec": {
   "display_name": "Python 3",
   "language": "python",
   "name": "python3"
  },
  "language_info": {
   "codemirror_mode": {
    "name": "ipython",
    "version": 3
   },
   "file_extension": ".py",
   "mimetype": "text/x-python",
   "name": "python",
   "nbconvert_exporter": "python",
   "pygments_lexer": "ipython3",
   "version": "3.6.10"
  }
 },
 "nbformat": 4,
 "nbformat_minor": 2
}
